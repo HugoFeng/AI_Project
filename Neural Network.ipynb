{
 "metadata": {
  "name": ""
 },
 "nbformat": 3,
 "nbformat_minor": 0,
 "worksheets": [
  {
   "cells": [
    {
     "cell_type": "code",
     "collapsed": false,
     "input": [
      "class Connection:\n",
      "    def __init__(self, inputNeuron, outputNeuron, weight=1):\n",
      "        self._weight = weight\n",
      "        self._inputNeuron = inputNeuron\n",
      "        self._outputNeuron = outputNeuron\n",
      "    \n",
      "    def output(self):\n",
      "        return self._inputNeuron._value * self._weight"
     ],
     "language": "python",
     "metadata": {},
     "outputs": [],
     "prompt_number": 39
    },
    {
     "cell_type": "code",
     "collapsed": false,
     "input": [
      "class Neuron:\n",
      "    def __init__(self):\n",
      "        self._inputConnections = []\n",
      "        self._outputConnections = []\n",
      "        self._value = None\n",
      "        pass\n",
      "    def connectInput(self, inputNeuron, weight=1):\n",
      "        for c in inputNeuron._outputConnections:\n",
      "            if c._outputNeuron == self:\n",
      "                return\n",
      "        connection = Connection(inputNeuron, self, weight)\n",
      "        inputNeuron._outputConnections.append(connection)\n",
      "        self._inputConnections.append(connection)\n",
      "    \n",
      "    def compute(self):\n",
      "        sum = 0.0\n",
      "        for connection in self._inputConnections:\n",
      "            sum += connection.output()\n",
      "        self._value = sum\n",
      "        return sum\n",
      "    def output(self):\n",
      "        return self._value\n"
     ],
     "language": "python",
     "metadata": {},
     "outputs": [],
     "prompt_number": 40
    },
    {
     "cell_type": "code",
     "collapsed": false,
     "input": [
      "class Layer:\n",
      "    def __init__(self, neurons, inputLayer=None, outputLayer=None):\n",
      "        self._neurons = neurons\n",
      "        self._inputLayer = inputLayer\n",
      "        self._outputLayer = outputLayer\n",
      "    def connectInputLayer(self,inputLayer):\n",
      "        inputLayer._outputLayer = self\n",
      "        self._inputLayer = inputLayer\n",
      "        for nThis in self._neurons:\n",
      "            for nIn in inputLayer._neurons:\n",
      "                nThis.connectInput(nIn)\n",
      "    def compute(self):\n",
      "        for n in self._neurons:\n",
      "            n.compute()\n",
      "    def propagate(self):       \n",
      "        if self._inputLayer == None:\n",
      "            return self._outputLayer.propagate()\n",
      "        elif self._outputLayer == None:\n",
      "            self.compute()\n",
      "            return self._neurons[0].output()\n",
      "        else:\n",
      "            self.compute()\n",
      "            return self._outputLayer.propagate()\n",
      "    "
     ],
     "language": "python",
     "metadata": {},
     "outputs": [],
     "prompt_number": 69
    },
    {
     "cell_type": "code",
     "collapsed": false,
     "input": [
      "n1 = Neuron()\n",
      "n2 = Neuron()\n",
      "n3 = Neuron()\n",
      "n4 = Neuron()\n",
      "n5 = Neuron()\n",
      "n6 = Neuron()\n",
      "neuronList1 = [n1, n2, n3]\n",
      "neuronList2 = [n4, n5]\n",
      "neuronList3 = [n6]"
     ],
     "language": "python",
     "metadata": {},
     "outputs": [],
     "prompt_number": 70
    },
    {
     "cell_type": "code",
     "collapsed": false,
     "input": [
      "n1._value = 1\n",
      "n2._value = 2\n",
      "n3._value = 3"
     ],
     "language": "python",
     "metadata": {},
     "outputs": [],
     "prompt_number": 71
    },
    {
     "cell_type": "code",
     "collapsed": false,
     "input": [
      "layer1 = Layer(neuronList1)\n",
      "layer2 = Layer(neuronList2)\n",
      "layer3 = Layer(neuronList3)"
     ],
     "language": "python",
     "metadata": {},
     "outputs": [],
     "prompt_number": 76
    },
    {
     "cell_type": "code",
     "collapsed": false,
     "input": [
      "layer2.connectInputLayer(layer1)\n",
      "layer3.connectInputLayer(layer2)"
     ],
     "language": "python",
     "metadata": {},
     "outputs": [],
     "prompt_number": 77
    },
    {
     "cell_type": "code",
     "collapsed": false,
     "input": [
      "print layer1.propagate()"
     ],
     "language": "python",
     "metadata": {},
     "outputs": [
      {
       "output_type": "stream",
       "stream": "stdout",
       "text": [
        "12.0\n"
       ]
      }
     ],
     "prompt_number": 78
    },
    {
     "cell_type": "code",
     "collapsed": false,
     "input": [
      "for n in layer1._neurons:\n",
      "    print n._value"
     ],
     "language": "python",
     "metadata": {},
     "outputs": [
      {
       "output_type": "stream",
       "stream": "stdout",
       "text": [
        "1\n",
        "2\n",
        "3\n"
       ]
      }
     ],
     "prompt_number": 79
    },
    {
     "cell_type": "code",
     "collapsed": false,
     "input": [],
     "language": "python",
     "metadata": {},
     "outputs": []
    }
   ],
   "metadata": {}
  }
 ]
}