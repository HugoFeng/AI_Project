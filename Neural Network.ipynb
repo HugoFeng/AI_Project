{
 "metadata": {
  "name": ""
 },
 "nbformat": 3,
 "nbformat_minor": 0,
 "worksheets": [
  {
   "cells": [
    {
     "cell_type": "code",
     "collapsed": false,
     "input": [
      "import math\n",
      "\n",
      "def sigmoid(x):\n",
      "  return 1 / (1 + math.exp(-x))"
     ],
     "language": "python",
     "metadata": {},
     "outputs": [],
     "prompt_number": 1
    },
    {
     "cell_type": "code",
     "collapsed": false,
     "input": [
      "class Connection(object):\n",
      "    def __init__(self, inputNeuron, outputNeuron, weight=1):\n",
      "        self._weight = weight\n",
      "        self._inputNeuron = inputNeuron\n",
      "        self._outputNeuron = outputNeuron\n",
      "    \n",
      "    def output(self):\n",
      "        return self._inputNeuron._value * self._weight"
     ],
     "language": "python",
     "metadata": {},
     "outputs": [],
     "prompt_number": 2
    },
    {
     "cell_type": "code",
     "collapsed": false,
     "input": [
      "class Neuron(object):\n",
      "    def __init__(self, func=sigmoid):\n",
      "        self._inputConnections = []\n",
      "        self._outputConnections = []\n",
      "        self._value = None\n",
      "        self._func = func\n",
      "\n",
      "    def connectInput(self, inputNeuron, weight=1):\n",
      "        for c in inputNeuron._outputConnections:\n",
      "            if c._outputNeuron == self:\n",
      "                return\n",
      "        connection = Connection(inputNeuron, self, weight)\n",
      "        inputNeuron._outputConnections.append(connection)\n",
      "        self._inputConnections.append(connection)\n",
      "    \n",
      "    def compute(self):\n",
      "        sum = 0\n",
      "        for connection in self._inputConnections:\n",
      "            sum += connection.output()\n",
      "        self._value = self._func(sum)\n",
      "        return self._value\n",
      "    \n",
      "    def output(self):\n",
      "        return self._value\n"
     ],
     "language": "python",
     "metadata": {},
     "outputs": [],
     "prompt_number": 4
    },
    {
     "cell_type": "code",
     "collapsed": false,
     "input": [
      "class Layer(object):\n",
      "    def __init__(self, numOfNeurons, func=sigmoid):\n",
      "        self._neurons = []\n",
      "        for i in range(numOfNeurons):\n",
      "            self._neurons.append(Neuron(func=func))\n",
      "        self._inputLayer = None\n",
      "        self._outputLayer = None\n",
      "    def connectInputLayer(self,inputLayer):\n",
      "        inputLayer._outputLayer = self\n",
      "        self._inputLayer = inputLayer\n",
      "        for nThis in self._neurons:\n",
      "            for nIn in inputLayer._neurons:\n",
      "                nThis.connectInput(nIn)\n",
      "    def compute(self):\n",
      "        for n in self._neurons:\n",
      "            n.compute()\n",
      "    def propagate(self):       \n",
      "        if self._inputLayer == None:\n",
      "            return self._outputLayer.propagate()\n",
      "        elif self._outputLayer == None:\n",
      "            self.compute()\n",
      "            return self._neurons[0].output()\n",
      "        else:\n",
      "            self.compute()\n",
      "            return self._outputLayer.propagate()\n",
      "    "
     ],
     "language": "python",
     "metadata": {},
     "outputs": [],
     "prompt_number": 5
    },
    {
     "cell_type": "code",
     "collapsed": false,
     "input": [
      "class InputLayer(Layer):\n",
      "    def __init__(self, numOfInputVars, hasBias = False):\n",
      "        self._hasBias = hasBias\n",
      "        self._neurons = []\n",
      "        if hasBias:\n",
      "            self._neurons.append(Neuron())\n",
      "            self._neurons[0]._value = 1\n",
      "        for n in range(numOfInputVars):\n",
      "            self._neurons.append(Neuron())\n",
      "        self._inputLayer = None\n",
      "        self._outputLayer = None\n",
      "    def compute(self):\n",
      "        return self.output()\n",
      "    def setInputValue(self, values):\n",
      "        if self._hasBias:\n",
      "            start = 1\n",
      "        else:\n",
      "            start = 0\n",
      "        for index, v in enumerate(values):\n",
      "            self._neurons[index+start]._value = v\n",
      "            "
     ],
     "language": "python",
     "metadata": {},
     "outputs": [],
     "prompt_number": 6
    },
    {
     "cell_type": "code",
     "collapsed": false,
     "input": [
      "class OutputLayer(Layer):\n",
      "    def __init__(self, func=sigmoid):\n",
      "        super(OutputLayer, self).__init__(1, func=func)"
     ],
     "language": "python",
     "metadata": {},
     "outputs": [],
     "prompt_number": 8
    },
    {
     "cell_type": "code",
     "collapsed": false,
     "input": [
      "class NeuralNetwork(object):\n",
      "    def __init__(self, numOfInputVars, hiddenLayerNodeNumList, func=sigmoid, hasBias = False):\n",
      "        self._inputLayer = InputLayer(numOfInputVars, hasBias = hasBias)\n",
      "        self._outputLayer = OutputLayer(func=func)\n",
      "        self._hiddenLayers = []\n",
      "        for n in hiddenLayerNodeNumList:\n",
      "            self._hiddenLayers.append(Layer(n, func=func))\n",
      "        self._hiddenLayers[0].connectInputLayer(self._inputLayer)\n",
      "        for i in range(1, len(self._hiddenLayers)):\n",
      "            self._hiddenLayers[i].connectInputLayer(self._hiddenLayers[i-1])\n",
      "        self._outputLayer.connectInputLayer(self._hiddenLayers[-1])\n",
      "    def setInputValue(self, values):\n",
      "        self._inputLayer.setInputValue(values)\n",
      "    def output(self):\n",
      "        return self._inputLayer.propagate()"
     ],
     "language": "python",
     "metadata": {},
     "outputs": [],
     "prompt_number": 9
    },
    {
     "cell_type": "code",
     "collapsed": false,
     "input": [
      "network = NeuralNetwork(3, [2])"
     ],
     "language": "python",
     "metadata": {},
     "outputs": [],
     "prompt_number": 20
    },
    {
     "cell_type": "code",
     "collapsed": false,
     "input": [
      "network.setInputValue([1,2,3])"
     ],
     "language": "python",
     "metadata": {},
     "outputs": [],
     "prompt_number": 21
    },
    {
     "cell_type": "code",
     "collapsed": false,
     "input": [
      "print network.output()\n"
     ],
     "language": "python",
     "metadata": {},
     "outputs": [
      {
       "output_type": "stream",
       "stream": "stdout",
       "text": [
        "0.880276880294\n"
       ]
      }
     ],
     "prompt_number": 22
    },
    {
     "cell_type": "code",
     "collapsed": false,
     "input": [],
     "language": "python",
     "metadata": {},
     "outputs": []
    }
   ],
   "metadata": {}
  }
 ]
}