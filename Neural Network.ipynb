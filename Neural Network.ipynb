{
 "metadata": {
  "name": ""
 },
 "nbformat": 3,
 "nbformat_minor": 0,
 "worksheets": [
  {
   "cells": [
    {
     "cell_type": "markdown",
     "metadata": {},
     "source": [
      "#Neural Network"
     ]
    },
    {
     "cell_type": "code",
     "collapsed": false,
     "input": [
      "import math\n",
      "\n",
      "def sigmoid(x):\n",
      "  return 1 / (1 + math.exp(-x))"
     ],
     "language": "python",
     "metadata": {},
     "outputs": [],
     "prompt_number": 2
    },
    {
     "cell_type": "code",
     "collapsed": false,
     "input": [
      "class Connection(object):\n",
      "    def __init__(self, inputNeuron, outputNeuron, weight=1):\n",
      "        self._weight = weight\n",
      "        self._inputNeuron = inputNeuron\n",
      "        self._outputNeuron = outputNeuron\n",
      "    def setWeight(self, weight):\n",
      "        self._weight = weight\n",
      "    \n",
      "    def output(self):\n",
      "        return self._inputNeuron._value * self._weight"
     ],
     "language": "python",
     "metadata": {},
     "outputs": [],
     "prompt_number": 3
    },
    {
     "cell_type": "code",
     "collapsed": false,
     "input": [
      "class Neuron(object):\n",
      "    def __init__(self, func=sigmoid):\n",
      "        self._inputConnections = []\n",
      "        self._outputConnections = []\n",
      "        self._value = None\n",
      "        self._func = func\n",
      "    def __str__(self):\n",
      "        weightStr = ' connections'\n",
      "        if len(self._inputConnections) !=0 :\n",
      "            weightStr += ', weights:'+', '.join([str(c._weight) for c in self._inputConnections])\n",
      "        return 'Y('+str(len(self._inputConnections))+weightStr+')'\n",
      "\n",
      "    def connectInput(self, inputNeuron, weight=1):\n",
      "        for c in inputNeuron._outputConnections:\n",
      "            if c._outputNeuron == self:\n",
      "                return\n",
      "        connection = Connection(inputNeuron, self, weight)\n",
      "        inputNeuron._outputConnections.append(connection)\n",
      "        self._inputConnections.append(connection)\n",
      "    def setWeight(self, weightList):\n",
      "        if len(weightList)!=len(self._inputConnections):\n",
      "            print \"Weight list doesn't match the length of input connections.\"\n",
      "            return\n",
      "        else:\n",
      "            for index, c in enumerate(self._inputConnections):\n",
      "                c.setWeight(weightList[index])\n",
      "    \n",
      "    def compute(self):\n",
      "        sum = 0\n",
      "        for connection in self._inputConnections:\n",
      "            sum += connection.output()\n",
      "        self._value = self._func(sum)\n",
      "        return self._value\n",
      "    \n",
      "    def output(self):\n",
      "        return self._value\n"
     ],
     "language": "python",
     "metadata": {},
     "outputs": [],
     "prompt_number": 4
    },
    {
     "cell_type": "code",
     "collapsed": false,
     "input": [
      "class Layer(object):\n",
      "    def __init__(self, numOfNeurons, func=sigmoid):\n",
      "        self._neurons = []\n",
      "        for i in range(numOfNeurons):\n",
      "            self._neurons.append(Neuron(func=func))\n",
      "        self._inputLayer = None\n",
      "        self._outputLayer = None\n",
      "    def __str__(self):\n",
      "        return '\\t'.join([n.__str__() for n in self._neurons])\n",
      "    def connectInputLayer(self,inputLayer):\n",
      "        inputLayer._outputLayer = self\n",
      "        self._inputLayer = inputLayer\n",
      "        for nThis in self._neurons:\n",
      "            for nIn in inputLayer._neurons:\n",
      "                nThis.connectInput(nIn)\n",
      "    def setWeight(self, weightListList):\n",
      "        if len(weightListList) != len(self._neurons):\n",
      "            print \"WeightListList doesn't match the number of neurons\"\n",
      "            return \n",
      "        else:\n",
      "            for index, n in enumerate(self._neurons):\n",
      "                n.setWeight(weightListList[index])\n",
      "                \n",
      "    def compute(self):\n",
      "        for n in self._neurons:\n",
      "            n.compute()\n",
      "    def propagate(self):       \n",
      "        #This is the input layer\n",
      "        if self._inputLayer == None:\n",
      "            return self._outputLayer.propagate()\n",
      "        #This is the out put layer\n",
      "        elif self._outputLayer == None:\n",
      "            self.compute()\n",
      "            return [n.output() for n in self._neurons]\n",
      "        #This is one of the hidden layer(s)\n",
      "        else:\n",
      "            self.compute()\n",
      "            return self._outputLayer.propagate()\n",
      "    def getGene(self):\n",
      "        return [c._weight for n in self._neurons for c in n._inputConnections]\n",
      "    def setGene(self, geneListForLayer):\n",
      "        index = 0\n",
      "        for n in self._neurons:\n",
      "            for c in n._inputConnections:\n",
      "                c.setWeight(geneListForLayer[index])\n",
      "                index += 1\n",
      "        return geneListForLayer[index:]\n",
      "    "
     ],
     "language": "python",
     "metadata": {},
     "outputs": [],
     "prompt_number": 30
    },
    {
     "cell_type": "code",
     "collapsed": false,
     "input": [
      "class InputLayer(Layer):\n",
      "    def __init__(self, numOfInputVars, hasBias = False):\n",
      "        self._hasBias = hasBias\n",
      "        self._neurons = []\n",
      "        if hasBias:\n",
      "            self._neurons.append(Neuron())\n",
      "            self._neurons[0]._value = 1\n",
      "        for n in range(numOfInputVars):\n",
      "            self._neurons.append(Neuron())\n",
      "        self._inputLayer = None\n",
      "        self._outputLayer = None\n",
      "    def compute(self):\n",
      "        return self.output()\n",
      "    def setInputValue(self, values):\n",
      "        if self._hasBias:\n",
      "            start = 1\n",
      "        else:\n",
      "            start = 0\n",
      "        for index, v in enumerate(values):\n",
      "            self._neurons[index+start]._value = v\n",
      "            "
     ],
     "language": "python",
     "metadata": {},
     "outputs": [],
     "prompt_number": 31
    },
    {
     "cell_type": "code",
     "collapsed": false,
     "input": [
      "class OutputLayer(Layer):\n",
      "    def __init__(self, numOfOutputVars, func=sigmoid):\n",
      "        super(OutputLayer, self).__init__(numOfOutputVars, func=func)"
     ],
     "language": "python",
     "metadata": {},
     "outputs": [],
     "prompt_number": 32
    },
    {
     "cell_type": "code",
     "collapsed": false,
     "input": [
      "class NeuralNetwork(object):\n",
      "    def __init__(self, numOfInputVars, numOfOutputVars, hiddenLayerNodeNumList, func=sigmoid, hasBias = False):\n",
      "        self._inputLayer = InputLayer(numOfInputVars, hasBias = hasBias)\n",
      "        self._outputLayer = OutputLayer(numOfOutputVars, func=func)\n",
      "        self._hiddenLayers = []\n",
      "        for n in hiddenLayerNodeNumList:\n",
      "            self._hiddenLayers.append(Layer(n, func=func))\n",
      "        self._hiddenLayers[0].connectInputLayer(self._inputLayer)\n",
      "        for i in range(1, len(self._hiddenLayers)):\n",
      "            self._hiddenLayers[i].connectInputLayer(self._hiddenLayers[i-1])\n",
      "        self._outputLayer.connectInputLayer(self._hiddenLayers[-1])\n",
      "    def __str__(self):\n",
      "        s = str(self._inputLayer) + '\\n'\n",
      "        s += '\\n'.join([l.__str__() for l in self._hiddenLayers])\n",
      "        s += '\\n' + self._outputLayer.__str__()\n",
      "        return s\n",
      "    def setWeightOfHiddenLayer(self, indexOfHiddenLayer, weightListList):\n",
      "        self._hiddenLayers[indexOfHiddenLayer].setWeight(weightListList)\n",
      "        \n",
      "    def inputValue(self, values):\n",
      "        self._inputLayer.setInputValue(values)\n",
      "    def getGene(self):\n",
      "        g = []\n",
      "        for layer in self._hiddenLayers:\n",
      "            g += layer.getGene()\n",
      "        g += self._outputLayer.getGene()\n",
      "        return g\n",
      "    def setGene(self, geneList):\n",
      "        trimedGene = geneList\n",
      "        for layer in self._hiddenLayers:\n",
      "            trimedGene = layer.setGene(trimedGene)\n",
      "        self._outputLayer.setGene(trimedGene)\n",
      "    def output(self):\n",
      "        return self._inputLayer.propagate()"
     ],
     "language": "python",
     "metadata": {},
     "outputs": [],
     "prompt_number": 36
    },
    {
     "cell_type": "code",
     "collapsed": false,
     "input": [
      "network = NeuralNetwork(3, 2, [2 ,3],func=(lambda x:x), hasBias=False)"
     ],
     "language": "python",
     "metadata": {},
     "outputs": [],
     "prompt_number": 42
    },
    {
     "cell_type": "code",
     "collapsed": false,
     "input": [
      "network.inputValue([1,2,3])"
     ],
     "language": "python",
     "metadata": {},
     "outputs": [],
     "prompt_number": 43
    },
    {
     "cell_type": "code",
     "collapsed": false,
     "input": [
      "print network\n",
      "print network.getGene()"
     ],
     "language": "python",
     "metadata": {},
     "outputs": [
      {
       "output_type": "stream",
       "stream": "stdout",
       "text": [
        "Y(0 connections)\tY(0 connections)\tY(0 connections)\n",
        "Y(3 connections, weights:1, 1, 1)\tY(3 connections, weights:1, 1, 1)\n",
        "Y(2 connections, weights:1, 1)\tY(2 connections, weights:1, 1)\tY(2 connections, weights:1, 1)\n",
        "Y(3 connections, weights:1, 1, 1)\tY(3 connections, weights:1, 1, 1)\n",
        "[1, 1, 1, 1, 1, 1, 1, 1, 1, 1, 1, 1, 1, 1, 1, 1, 1, 1]\n"
       ]
      }
     ],
     "prompt_number": 44
    },
    {
     "cell_type": "code",
     "collapsed": false,
     "input": [
      "network.setGene([1, 2, 3, 4, 5, 6, 7, 8, 9, 10, 11, 12, 13, 14, 15, 16, 17, 18])\n",
      "print network\n",
      "print network.getGene()"
     ],
     "language": "python",
     "metadata": {},
     "outputs": [
      {
       "output_type": "stream",
       "stream": "stdout",
       "text": [
        "Y(0 connections)\tY(0 connections)\tY(0 connections)\n",
        "Y(3 connections, weights:1, 2, 3)\tY(3 connections, weights:4, 5, 6)\n",
        "Y(2 connections, weights:7, 8)\tY(2 connections, weights:9, 10)\tY(2 connections, weights:11, 12)\n",
        "Y(3 connections, weights:13, 14, 15)\tY(3 connections, weights:16, 17, 18)\n",
        "[1, 2, 3, 4, 5, 6, 7, 8, 9, 10, 11, 12, 13, 14, 15, 16, 17, 18]\n"
       ]
      }
     ],
     "prompt_number": 46
    },
    {
     "cell_type": "code",
     "collapsed": false,
     "input": [
      "print network.output()\n"
     ],
     "language": "python",
     "metadata": {},
     "outputs": [
      {
       "output_type": "stream",
       "stream": "stdout",
       "text": [
        "[18916, 22930]\n"
       ]
      }
     ],
     "prompt_number": 47
    },
    {
     "cell_type": "markdown",
     "metadata": {},
     "source": [
      "#Genetic Algorithm"
     ]
    },
    {
     "cell_type": "code",
     "collapsed": false,
     "input": [
      "list1 = [1,2]\n",
      "list2 = [3,4]\n",
      "list3 = list1+list2\n",
      "print list3"
     ],
     "language": "python",
     "metadata": {},
     "outputs": [
      {
       "output_type": "stream",
       "stream": "stdout",
       "text": [
        "[1, 2, 3, 4]\n"
       ]
      }
     ],
     "prompt_number": 17
    },
    {
     "cell_type": "code",
     "collapsed": false,
     "input": [],
     "language": "python",
     "metadata": {},
     "outputs": []
    }
   ],
   "metadata": {}
  }
 ]
}