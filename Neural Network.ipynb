{
 "metadata": {
  "name": ""
 },
 "nbformat": 3,
 "nbformat_minor": 0,
 "worksheets": [
  {
   "cells": [
    {
     "cell_type": "code",
     "collapsed": false,
     "input": [
      "import math\n",
      "\n",
      "def sigmoid(x):\n",
      "  return 1 / (1 + math.exp(-x))"
     ],
     "language": "python",
     "metadata": {},
     "outputs": [],
     "prompt_number": 129
    },
    {
     "cell_type": "code",
     "collapsed": false,
     "input": [
      "class Connection(object):\n",
      "    def __init__(self, inputNeuron, outputNeuron, weight=1):\n",
      "        self._weight = weight\n",
      "        self._inputNeuron = inputNeuron\n",
      "        self._outputNeuron = outputNeuron\n",
      "    def setWeight(self, weight):\n",
      "        self._weight = weight\n",
      "    \n",
      "    def output(self):\n",
      "        return self._inputNeuron._value * self._weight"
     ],
     "language": "python",
     "metadata": {},
     "outputs": [],
     "prompt_number": 130
    },
    {
     "cell_type": "code",
     "collapsed": false,
     "input": [
      "class Neuron(object):\n",
      "    def __init__(self, func=sigmoid):\n",
      "        self._inputConnections = []\n",
      "        self._outputConnections = []\n",
      "        self._value = None\n",
      "        self._func = func\n",
      "    def __str__(self):\n",
      "        return 'Y('+str(len(self._inputConnections))+')'\n",
      "\n",
      "    def connectInput(self, inputNeuron, weight=1):\n",
      "        for c in inputNeuron._outputConnections:\n",
      "            if c._outputNeuron == self:\n",
      "                return\n",
      "        connection = Connection(inputNeuron, self, weight)\n",
      "        inputNeuron._outputConnections.append(connection)\n",
      "        self._inputConnections.append(connection)\n",
      "    def setWeight(self, weightList):\n",
      "        if len(weightList)!=len(self._inputConnections):\n",
      "            print \"Weight list doesn't match the length of input connections.\"\n",
      "            return\n",
      "        else:\n",
      "            for index, c in enumerate(self._inputConnections):\n",
      "                c.setWeight(weightList[index])\n",
      "    \n",
      "    def compute(self):\n",
      "        sum = 0\n",
      "        for connection in self._inputConnections:\n",
      "            sum += connection.output()\n",
      "        self._value = self._func(sum)\n",
      "        return self._value\n",
      "    \n",
      "    def output(self):\n",
      "        return self._value\n"
     ],
     "language": "python",
     "metadata": {},
     "outputs": [],
     "prompt_number": 131
    },
    {
     "cell_type": "code",
     "collapsed": false,
     "input": [
      "class Layer(object):\n",
      "    def __init__(self, numOfNeurons, func=sigmoid):\n",
      "        self._neurons = []\n",
      "        for i in range(numOfNeurons):\n",
      "            self._neurons.append(Neuron(func=func))\n",
      "        self._inputLayer = None\n",
      "        self._outputLayer = None\n",
      "    def __str__(self):\n",
      "        return '\\t'.join([n.__str__() for n in self._neurons])\n",
      "    def connectInputLayer(self,inputLayer):\n",
      "        inputLayer._outputLayer = self\n",
      "        self._inputLayer = inputLayer\n",
      "        for nThis in self._neurons:\n",
      "            for nIn in inputLayer._neurons:\n",
      "                nThis.connectInput(nIn)\n",
      "    def setWeight(self, weightListList):\n",
      "        if len(weightListList) != len(self._neurons):\n",
      "            print \"WeightListList doesn't match the number of neurons\"\n",
      "            return \n",
      "        else:\n",
      "            for index, n in enumerate(self._neurons):\n",
      "                n.setWeight(weightListList[index])\n",
      "                \n",
      "    def compute(self):\n",
      "        for n in self._neurons:\n",
      "            n.compute()\n",
      "    def propagate(self):       \n",
      "        if self._inputLayer == None:\n",
      "            return self._outputLayer.propagate()\n",
      "        elif self._outputLayer == None:\n",
      "            self.compute()\n",
      "            return self._neurons[0].output()\n",
      "        else:\n",
      "            self.compute()\n",
      "            return self._outputLayer.propagate()\n",
      "    "
     ],
     "language": "python",
     "metadata": {},
     "outputs": [],
     "prompt_number": 132
    },
    {
     "cell_type": "code",
     "collapsed": false,
     "input": [
      "class InputLayer(Layer):\n",
      "    def __init__(self, numOfInputVars, hasBias = False):\n",
      "        self._hasBias = hasBias\n",
      "        self._neurons = []\n",
      "        if hasBias:\n",
      "            self._neurons.append(Neuron())\n",
      "            self._neurons[0]._value = 1\n",
      "        for n in range(numOfInputVars):\n",
      "            self._neurons.append(Neuron())\n",
      "        self._inputLayer = None\n",
      "        self._outputLayer = None\n",
      "    def compute(self):\n",
      "        return self.output()\n",
      "    def setInputValue(self, values):\n",
      "        if self._hasBias:\n",
      "            start = 1\n",
      "        else:\n",
      "            start = 0\n",
      "        for index, v in enumerate(values):\n",
      "            self._neurons[index+start]._value = v\n",
      "            "
     ],
     "language": "python",
     "metadata": {},
     "outputs": [],
     "prompt_number": 133
    },
    {
     "cell_type": "code",
     "collapsed": false,
     "input": [
      "class OutputLayer(Layer):\n",
      "    def __init__(self, func=sigmoid):\n",
      "        super(OutputLayer, self).__init__(1, func=func)"
     ],
     "language": "python",
     "metadata": {},
     "outputs": [],
     "prompt_number": 134
    },
    {
     "cell_type": "code",
     "collapsed": false,
     "input": [
      "class NeuralNetwork(object):\n",
      "    def __init__(self, numOfInputVars, hiddenLayerNodeNumList, func=sigmoid, hasBias = False):\n",
      "        self._inputLayer = InputLayer(numOfInputVars, hasBias = hasBias)\n",
      "        self._outputLayer = OutputLayer(func=func)\n",
      "        self._hiddenLayers = []\n",
      "        for n in hiddenLayerNodeNumList:\n",
      "            self._hiddenLayers.append(Layer(n, func=func))\n",
      "        self._hiddenLayers[0].connectInputLayer(self._inputLayer)\n",
      "        for i in range(1, len(self._hiddenLayers)):\n",
      "            self._hiddenLayers[i].connectInputLayer(self._hiddenLayers[i-1])\n",
      "        self._outputLayer.connectInputLayer(self._hiddenLayers[-1])\n",
      "    def __str__(self):\n",
      "        s = str(self._inputLayer) + '\\n'\n",
      "        s += '\\n'.join([l.__str__() for l in self._hiddenLayers])\n",
      "        s += '\\n' + self._outputLayer.__str__()\n",
      "        return s\n",
      "    def setWeight(self, indexOfHiddenLayer, weightListList):\n",
      "        self._hiddenLayers[indexOfHiddenLayer].setWeight(weightListList)\n",
      "        \n",
      "    def setInputValue(self, values):\n",
      "        self._inputLayer.setInputValue(values)\n",
      "    def output(self):\n",
      "        return self._inputLayer.propagate()"
     ],
     "language": "python",
     "metadata": {},
     "outputs": [],
     "prompt_number": 143
    },
    {
     "cell_type": "code",
     "collapsed": false,
     "input": [
      "network = NeuralNetwork(3, [2],func=(lambda x:x), hasBias=False)"
     ],
     "language": "python",
     "metadata": {},
     "outputs": [],
     "prompt_number": 144
    },
    {
     "cell_type": "code",
     "collapsed": false,
     "input": [
      "network.setInputValue([1,2,3])"
     ],
     "language": "python",
     "metadata": {},
     "outputs": [],
     "prompt_number": 145
    },
    {
     "cell_type": "code",
     "collapsed": false,
     "input": [
      "print network"
     ],
     "language": "python",
     "metadata": {},
     "outputs": [
      {
       "output_type": "stream",
       "stream": "stdout",
       "text": [
        "Y(0)\tY(0)\tY(0)\n",
        "Y(3)\tY(3)\n",
        "Y(2)\n"
       ]
      }
     ],
     "prompt_number": 146
    },
    {
     "cell_type": "code",
     "collapsed": false,
     "input": [
      "print network.output()\n"
     ],
     "language": "python",
     "metadata": {},
     "outputs": [
      {
       "output_type": "stream",
       "stream": "stdout",
       "text": [
        "12\n"
       ]
      }
     ],
     "prompt_number": 147
    },
    {
     "cell_type": "code",
     "collapsed": false,
     "input": [
      "print len(network._hiddenLayers[0]._neurons)\n",
      "print len([[1,2,3],[1,2,3]])"
     ],
     "language": "python",
     "metadata": {},
     "outputs": [
      {
       "output_type": "stream",
       "stream": "stdout",
       "text": [
        "2\n",
        "2\n"
       ]
      }
     ],
     "prompt_number": 148
    },
    {
     "cell_type": "code",
     "collapsed": false,
     "input": [
      "network.setWeight(0, [[1,2,3],[1,2,3]])"
     ],
     "language": "python",
     "metadata": {},
     "outputs": [],
     "prompt_number": 149
    },
    {
     "cell_type": "code",
     "collapsed": false,
     "input": [
      "print network.output()"
     ],
     "language": "python",
     "metadata": {},
     "outputs": [
      {
       "output_type": "stream",
       "stream": "stdout",
       "text": [
        "28\n"
       ]
      }
     ],
     "prompt_number": 150
    },
    {
     "cell_type": "code",
     "collapsed": false,
     "input": [],
     "language": "python",
     "metadata": {},
     "outputs": []
    }
   ],
   "metadata": {}
  }
 ]
}